{
 "cells": [
  {
   "cell_type": "markdown",
   "id": "210b97b8",
   "metadata": {},
   "source": [
    "### Problem Statement:\n",
    "Predict the income class based on certain attributes of individuals.\n",
    "i.e. Less than or equal to 50K and Greater than 50K"
   ]
  },
  {
   "cell_type": "code",
   "execution_count": 1,
   "id": "04947215",
   "metadata": {},
   "outputs": [],
   "source": [
    "## Import Packages\n",
    "import pandas as pd\n",
    "import numpy as np\n",
    "from matplotlib import pyplot\n",
    "import matplotlib.pyplot as plt\n",
    "import seaborn as sns"
   ]
  },
  {
   "cell_type": "code",
   "execution_count": 2,
   "id": "8e61bffd",
   "metadata": {},
   "outputs": [],
   "source": [
    "column_list = ['age', 'workclass', 'fnlwgt', 'education', 'education-num', \n",
    "               'marital-status', 'occupation', 'relationship', 'race', 'sex', \n",
    "               'capital-gain', 'capital-loss', 'hours-per-week', 'native-country', \n",
    "               'income']\n",
    "\n",
    "train_raw_data = pd.read_csv(\"adult/adult.data\", names=column_list)"
   ]
  },
  {
   "cell_type": "code",
   "execution_count": 3,
   "id": "103adf81",
   "metadata": {},
   "outputs": [
    {
     "data": {
      "text/html": [
       "<div>\n",
       "<style scoped>\n",
       "    .dataframe tbody tr th:only-of-type {\n",
       "        vertical-align: middle;\n",
       "    }\n",
       "\n",
       "    .dataframe tbody tr th {\n",
       "        vertical-align: top;\n",
       "    }\n",
       "\n",
       "    .dataframe thead th {\n",
       "        text-align: right;\n",
       "    }\n",
       "</style>\n",
       "<table border=\"1\" class=\"dataframe\">\n",
       "  <thead>\n",
       "    <tr style=\"text-align: right;\">\n",
       "      <th></th>\n",
       "      <th>age</th>\n",
       "      <th>workclass</th>\n",
       "      <th>fnlwgt</th>\n",
       "      <th>education</th>\n",
       "      <th>education-num</th>\n",
       "      <th>marital-status</th>\n",
       "      <th>occupation</th>\n",
       "      <th>relationship</th>\n",
       "      <th>race</th>\n",
       "      <th>sex</th>\n",
       "      <th>capital-gain</th>\n",
       "      <th>capital-loss</th>\n",
       "      <th>hours-per-week</th>\n",
       "      <th>native-country</th>\n",
       "      <th>income</th>\n",
       "    </tr>\n",
       "  </thead>\n",
       "  <tbody>\n",
       "    <tr>\n",
       "      <th>0</th>\n",
       "      <td>39</td>\n",
       "      <td>State-gov</td>\n",
       "      <td>77516</td>\n",
       "      <td>Bachelors</td>\n",
       "      <td>13</td>\n",
       "      <td>Never-married</td>\n",
       "      <td>Adm-clerical</td>\n",
       "      <td>Not-in-family</td>\n",
       "      <td>White</td>\n",
       "      <td>Male</td>\n",
       "      <td>2174</td>\n",
       "      <td>0</td>\n",
       "      <td>40</td>\n",
       "      <td>United-States</td>\n",
       "      <td>&lt;=50K</td>\n",
       "    </tr>\n",
       "    <tr>\n",
       "      <th>1</th>\n",
       "      <td>50</td>\n",
       "      <td>Self-emp-not-inc</td>\n",
       "      <td>83311</td>\n",
       "      <td>Bachelors</td>\n",
       "      <td>13</td>\n",
       "      <td>Married-civ-spouse</td>\n",
       "      <td>Exec-managerial</td>\n",
       "      <td>Husband</td>\n",
       "      <td>White</td>\n",
       "      <td>Male</td>\n",
       "      <td>0</td>\n",
       "      <td>0</td>\n",
       "      <td>13</td>\n",
       "      <td>United-States</td>\n",
       "      <td>&lt;=50K</td>\n",
       "    </tr>\n",
       "    <tr>\n",
       "      <th>2</th>\n",
       "      <td>38</td>\n",
       "      <td>Private</td>\n",
       "      <td>215646</td>\n",
       "      <td>HS-grad</td>\n",
       "      <td>9</td>\n",
       "      <td>Divorced</td>\n",
       "      <td>Handlers-cleaners</td>\n",
       "      <td>Not-in-family</td>\n",
       "      <td>White</td>\n",
       "      <td>Male</td>\n",
       "      <td>0</td>\n",
       "      <td>0</td>\n",
       "      <td>40</td>\n",
       "      <td>United-States</td>\n",
       "      <td>&lt;=50K</td>\n",
       "    </tr>\n",
       "  </tbody>\n",
       "</table>\n",
       "</div>"
      ],
      "text/plain": [
       "   age          workclass  fnlwgt   education  education-num  \\\n",
       "0   39          State-gov   77516   Bachelors             13   \n",
       "1   50   Self-emp-not-inc   83311   Bachelors             13   \n",
       "2   38            Private  215646     HS-grad              9   \n",
       "\n",
       "        marital-status          occupation    relationship    race    sex  \\\n",
       "0        Never-married        Adm-clerical   Not-in-family   White   Male   \n",
       "1   Married-civ-spouse     Exec-managerial         Husband   White   Male   \n",
       "2             Divorced   Handlers-cleaners   Not-in-family   White   Male   \n",
       "\n",
       "   capital-gain  capital-loss  hours-per-week  native-country  income  \n",
       "0          2174             0              40   United-States   <=50K  \n",
       "1             0             0              13   United-States   <=50K  \n",
       "2             0             0              40   United-States   <=50K  "
      ]
     },
     "execution_count": 3,
     "metadata": {},
     "output_type": "execute_result"
    }
   ],
   "source": [
    "train_raw_data.head(3)"
   ]
  },
  {
   "cell_type": "markdown",
   "id": "ce06c715",
   "metadata": {},
   "source": [
    "### Exploratory Data Analysis\n",
    "<ol>\n",
    "    <li>Getting to know data.</li>\n",
    "    <li>Data preprocessing (Missing values)</li>\n",
    "    <li>Cross tables and data visualization</li>\n",
    "</ol>"
   ]
  },
  {
   "cell_type": "code",
   "execution_count": 4,
   "id": "541f3597",
   "metadata": {},
   "outputs": [
    {
     "name": "stdout",
     "output_type": "stream",
     "text": [
      "<class 'pandas.core.frame.DataFrame'>\n",
      "RangeIndex: 32561 entries, 0 to 32560\n",
      "Data columns (total 15 columns):\n",
      " #   Column          Non-Null Count  Dtype \n",
      "---  ------          --------------  ----- \n",
      " 0   age             32561 non-null  int64 \n",
      " 1   workclass       32561 non-null  object\n",
      " 2   fnlwgt          32561 non-null  int64 \n",
      " 3   education       32561 non-null  object\n",
      " 4   education-num   32561 non-null  int64 \n",
      " 5   marital-status  32561 non-null  object\n",
      " 6   occupation      32561 non-null  object\n",
      " 7   relationship    32561 non-null  object\n",
      " 8   race            32561 non-null  object\n",
      " 9   sex             32561 non-null  object\n",
      " 10  capital-gain    32561 non-null  int64 \n",
      " 11  capital-loss    32561 non-null  int64 \n",
      " 12  hours-per-week  32561 non-null  int64 \n",
      " 13  native-country  32561 non-null  object\n",
      " 14  income          32561 non-null  object\n",
      "dtypes: int64(6), object(9)\n",
      "memory usage: 3.7+ MB\n"
     ]
    }
   ],
   "source": [
    "data = train_raw_data.copy()\n",
    "data['income'] = data['income'].apply(lambda x: x.strip())\n",
    "# check data types of all variables present in dataset\n",
    "data.info()"
   ]
  },
  {
   "cell_type": "code",
   "execution_count": 5,
   "id": "a137fdfb",
   "metadata": {},
   "outputs": [],
   "source": [
    "# Drop 'fnlwgt' variable because don't know about it and use of it according to variable table\n",
    "data = data.drop(columns=['fnlwgt'])\n",
    "# Drop 'education-num' because it is just label encoding of education variable\n",
    "data = data.drop(columns=['education-num'])"
   ]
  },
  {
   "cell_type": "code",
   "execution_count": 6,
   "id": "c2ed4632",
   "metadata": {},
   "outputs": [
    {
     "data": {
      "text/plain": [
       "age               0\n",
       "workclass         0\n",
       "education         0\n",
       "marital-status    0\n",
       "occupation        0\n",
       "relationship      0\n",
       "race              0\n",
       "sex               0\n",
       "capital-gain      0\n",
       "capital-loss      0\n",
       "hours-per-week    0\n",
       "native-country    0\n",
       "income            0\n",
       "dtype: int64"
      ]
     },
     "execution_count": 6,
     "metadata": {},
     "output_type": "execute_result"
    }
   ],
   "source": [
    "# check missing values\n",
    "data.isnull().sum()"
   ]
  },
  {
   "cell_type": "markdown",
   "id": "984e554f",
   "metadata": {},
   "source": [
    "No Missing values according null check!"
   ]
  },
  {
   "cell_type": "code",
   "execution_count": 7,
   "id": "084ad07f",
   "metadata": {},
   "outputs": [
    {
     "name": "stdout",
     "output_type": "stream",
     "text": [
      "                age  capital-gain  capital-loss  hours-per-week\n",
      "count  32561.000000  32561.000000  32561.000000    32561.000000\n",
      "mean      38.581647   1077.648844     87.303830       40.437456\n",
      "std       13.640433   7385.292085    402.960219       12.347429\n",
      "min       17.000000      0.000000      0.000000        1.000000\n",
      "25%       28.000000      0.000000      0.000000       40.000000\n",
      "50%       37.000000      0.000000      0.000000       40.000000\n",
      "75%       48.000000      0.000000      0.000000       45.000000\n",
      "max       90.000000  99999.000000   4356.000000       99.000000\n"
     ]
    }
   ],
   "source": [
    "# Summary of numerical variables\n",
    "statistical_summary = data.describe()\n",
    "print(statistical_summary)"
   ]
  },
  {
   "cell_type": "markdown",
   "id": "ca540951",
   "metadata": {},
   "source": [
    "Points to be note down after analysing above table for Numerical Variable Statistical Summary:\n",
    "<ol>\n",
    "    <li>Average age of individuals are 38.5 years and 75% of individuals having age less than 48 years.</li>\n",
    "    <li>According to education-num, average level of education is around 10.</li>\n",
    "    <li>Most of the individuals having 0 capital-gain means very few people investing in stocks and related schemes. Similarly for capital-loss as well.</li>\n",
    "    <li>Individuals working for an average of 40 hours per week. But there are few people who are giving 99 hours in a week to work. There are possible case of wrong entry as 99.</li>\n",
    "</ol>"
   ]
  },
  {
   "cell_type": "code",
   "execution_count": 8,
   "id": "08c125d0",
   "metadata": {},
   "outputs": [
    {
     "name": "stdout",
     "output_type": "stream",
     "text": [
      "       workclass education       marital-status       occupation relationship  \\\n",
      "count      32561     32561                32561            32561        32561   \n",
      "unique         9        16                    7               15            6   \n",
      "top      Private   HS-grad   Married-civ-spouse   Prof-specialty      Husband   \n",
      "freq       22696     10501                14976             4140        13193   \n",
      "\n",
      "          race    sex  native-country income  \n",
      "count    32561  32561           32561  32561  \n",
      "unique       5      2              42      2  \n",
      "top      White   Male   United-States  <=50K  \n",
      "freq     27816  21790           29170  24720  \n"
     ]
    }
   ],
   "source": [
    "# Summary of categorical variables\n",
    "statistical_summary = data.describe(include=\"O\")\n",
    "print(statistical_summary)"
   ]
  },
  {
   "cell_type": "markdown",
   "id": "71f84d79",
   "metadata": {},
   "source": [
    "Points to be note down after analysing above table for Categorical Variable Statistical Summary:\n",
    "<ol>\n",
    "    <li>Most of the individuals doing Private job which corresponds to 22696 out of 32561.</li>\n",
    "    <li>High Secondary graduates (HS-grad) are highest according to data among all other level of education.</li>\n",
    "    <li>White race or Male individuals are dominating in this data which may be problem of biasness towards one category.</li>\n",
    "    <li>US individuals are present mostly around 90%</li>\n",
    "</ol>"
   ]
  },
  {
   "cell_type": "markdown",
   "id": "de61b83c",
   "metadata": {},
   "source": [
    "#### Univariate analysis\n",
    "##### 1. workclass"
   ]
  },
  {
   "cell_type": "code",
   "execution_count": 9,
   "id": "773bba68",
   "metadata": {},
   "outputs": [
    {
     "data": {
      "text/plain": [
       " Private             22696\n",
       " Self-emp-not-inc     2541\n",
       " Local-gov            2093\n",
       " ?                    1836\n",
       " State-gov            1298\n",
       " Self-emp-inc         1116\n",
       " Federal-gov           960\n",
       " Without-pay            14\n",
       " Never-worked            7\n",
       "Name: workclass, dtype: int64"
      ]
     },
     "execution_count": 9,
     "metadata": {},
     "output_type": "execute_result"
    }
   ],
   "source": [
    "### Frequency of each categories\n",
    "data['workclass'].value_counts()"
   ]
  },
  {
   "cell_type": "code",
   "execution_count": 10,
   "id": "7bccc10a",
   "metadata": {},
   "outputs": [
    {
     "data": {
      "text/plain": [
       "array([' State-gov', ' Self-emp-not-inc', ' Private', ' Federal-gov',\n",
       "       ' Local-gov', ' ?', ' Self-emp-inc', ' Without-pay',\n",
       "       ' Never-worked'], dtype=object)"
      ]
     },
     "execution_count": 10,
     "metadata": {},
     "output_type": "execute_result"
    }
   ],
   "source": [
    "data['workclass'].unique()"
   ]
  },
  {
   "cell_type": "markdown",
   "id": "3ab774f0",
   "metadata": {},
   "source": [
    "Here, we can see that there are missing values present with ' ?' value."
   ]
  },
  {
   "cell_type": "code",
   "execution_count": 11,
   "id": "5bad962c",
   "metadata": {},
   "outputs": [
    {
     "data": {
      "text/plain": [
       "Private             22696\n",
       "Self-emp-not-inc     2541\n",
       "Local-gov            2093\n",
       "State-gov            1298\n",
       "Self-emp-inc         1116\n",
       "Federal-gov           960\n",
       "Without-pay            14\n",
       "Never-worked            7\n",
       "Name: workclass, dtype: int64"
      ]
     },
     "execution_count": 11,
     "metadata": {},
     "output_type": "execute_result"
    }
   ],
   "source": [
    "# replace ' ?' with null and remove forward space in each value\n",
    "replacement_values = {\n",
    "    ' State-gov': 'State-gov', ' Self-emp-not-inc': 'Self-emp-not-inc', \n",
    "    ' Private': 'Private', ' Federal-gov': 'Federal-gov', ' Local-gov': 'Local-gov', \n",
    "    ' ?': np.nan, ' Self-emp-inc': 'Self-emp-inc', ' Without-pay': 'Without-pay', ' Never-worked': 'Never-worked'\n",
    "}\n",
    "data['workclass'] = data['workclass'].replace(replacement_values)\n",
    "### Frequency of each categories\n",
    "data['workclass'].value_counts()"
   ]
  },
  {
   "cell_type": "markdown",
   "id": "37b57b7d",
   "metadata": {},
   "source": [
    "##### 2. education"
   ]
  },
  {
   "cell_type": "code",
   "execution_count": 12,
   "id": "4d3d239f",
   "metadata": {},
   "outputs": [
    {
     "name": "stdout",
     "output_type": "stream",
     "text": [
      " HS-grad         10501\n",
      " Some-college     7291\n",
      " Bachelors        5355\n",
      " Masters          1723\n",
      " Assoc-voc        1382\n",
      " 11th             1175\n",
      " Assoc-acdm       1067\n",
      " 10th              933\n",
      " 7th-8th           646\n",
      " Prof-school       576\n",
      " 9th               514\n",
      " 12th              433\n",
      " Doctorate         413\n",
      " 5th-6th           333\n",
      " 1st-4th           168\n",
      " Preschool          51\n",
      "Name: education, dtype: int64\n"
     ]
    }
   ],
   "source": [
    "print(data['education'].value_counts())"
   ]
  },
  {
   "cell_type": "code",
   "execution_count": 13,
   "id": "9ff8717c",
   "metadata": {},
   "outputs": [
    {
     "data": {
      "text/plain": [
       "(array([' Bachelors', ' HS-grad', ' 11th', ' Masters', ' 9th',\n",
       "        ' Some-college', ' Assoc-acdm', ' Assoc-voc', ' 7th-8th',\n",
       "        ' Doctorate', ' Prof-school', ' 5th-6th', ' 10th', ' 1st-4th',\n",
       "        ' Preschool', ' 12th'], dtype=object),\n",
       " 16)"
      ]
     },
     "execution_count": 13,
     "metadata": {},
     "output_type": "execute_result"
    }
   ],
   "source": [
    "data['education'].unique(), len(data['education'].unique())"
   ]
  },
  {
   "cell_type": "markdown",
   "id": "3045012d",
   "metadata": {},
   "source": [
    "Total 16 kind of educational level categories are present."
   ]
  },
  {
   "cell_type": "code",
   "execution_count": 14,
   "id": "562b9675",
   "metadata": {},
   "outputs": [],
   "source": [
    "# remove spaces in each value\n",
    "data['education'] = data['education'].apply(lambda x: x.strip())"
   ]
  },
  {
   "cell_type": "markdown",
   "id": "4362a33b",
   "metadata": {},
   "source": [
    "#### 3. marital-status"
   ]
  },
  {
   "cell_type": "code",
   "execution_count": 15,
   "id": "de68396e",
   "metadata": {},
   "outputs": [
    {
     "data": {
      "text/plain": [
       " Married-civ-spouse       14976\n",
       " Never-married            10683\n",
       " Divorced                  4443\n",
       " Separated                 1025\n",
       " Widowed                    993\n",
       " Married-spouse-absent      418\n",
       " Married-AF-spouse           23\n",
       "Name: marital-status, dtype: int64"
      ]
     },
     "execution_count": 15,
     "metadata": {},
     "output_type": "execute_result"
    }
   ],
   "source": [
    "data['marital-status'].value_counts()"
   ]
  },
  {
   "cell_type": "code",
   "execution_count": 16,
   "id": "1b313f08",
   "metadata": {},
   "outputs": [
    {
     "data": {
      "text/plain": [
       "(array([' Never-married', ' Married-civ-spouse', ' Divorced',\n",
       "        ' Married-spouse-absent', ' Separated', ' Married-AF-spouse',\n",
       "        ' Widowed'], dtype=object),\n",
       " 7)"
      ]
     },
     "execution_count": 16,
     "metadata": {},
     "output_type": "execute_result"
    }
   ],
   "source": [
    "data['marital-status'].unique(), len(data['marital-status'].unique())"
   ]
  },
  {
   "cell_type": "code",
   "execution_count": 17,
   "id": "c0792b7a",
   "metadata": {},
   "outputs": [],
   "source": [
    "# remove spaces in each value\n",
    "data['marital-status'] = data['marital-status'].apply(lambda x: x.strip())"
   ]
  },
  {
   "cell_type": "markdown",
   "id": "7e7ed5c1",
   "metadata": {},
   "source": [
    "#### 4. occupation"
   ]
  },
  {
   "cell_type": "code",
   "execution_count": 18,
   "id": "b9756bc4",
   "metadata": {},
   "outputs": [
    {
     "data": {
      "text/plain": [
       " Prof-specialty       4140\n",
       " Craft-repair         4099\n",
       " Exec-managerial      4066\n",
       " Adm-clerical         3770\n",
       " Sales                3650\n",
       " Other-service        3295\n",
       " Machine-op-inspct    2002\n",
       " ?                    1843\n",
       " Transport-moving     1597\n",
       " Handlers-cleaners    1370\n",
       " Farming-fishing       994\n",
       " Tech-support          928\n",
       " Protective-serv       649\n",
       " Priv-house-serv       149\n",
       " Armed-Forces            9\n",
       "Name: occupation, dtype: int64"
      ]
     },
     "execution_count": 18,
     "metadata": {},
     "output_type": "execute_result"
    }
   ],
   "source": [
    "data['occupation'].value_counts()"
   ]
  },
  {
   "cell_type": "code",
   "execution_count": 19,
   "id": "72f624d6",
   "metadata": {},
   "outputs": [
    {
     "data": {
      "text/plain": [
       "array([' Adm-clerical', ' Exec-managerial', ' Handlers-cleaners',\n",
       "       ' Prof-specialty', ' Other-service', ' Sales', ' Craft-repair',\n",
       "       ' Transport-moving', ' Farming-fishing', ' Machine-op-inspct',\n",
       "       ' Tech-support', ' ?', ' Protective-serv', ' Armed-Forces',\n",
       "       ' Priv-house-serv'], dtype=object)"
      ]
     },
     "execution_count": 19,
     "metadata": {},
     "output_type": "execute_result"
    }
   ],
   "source": [
    "data['occupation'].unique()"
   ]
  },
  {
   "cell_type": "markdown",
   "id": "41e70ec5",
   "metadata": {},
   "source": [
    "Again, above can see that ' ?' is present as missing value."
   ]
  },
  {
   "cell_type": "code",
   "execution_count": 20,
   "id": "ed4616a6",
   "metadata": {},
   "outputs": [],
   "source": [
    "# remove spaces in values\n",
    "data['occupation'] = data['occupation'].apply(lambda x: x.strip())\n",
    "# replace '?' with null\n",
    "data['occupation'] = data['occupation'].replace(to_replace='?', value=np.nan)"
   ]
  },
  {
   "cell_type": "markdown",
   "id": "72a5e5e9",
   "metadata": {},
   "source": [
    "#### 5. relationship"
   ]
  },
  {
   "cell_type": "code",
   "execution_count": 21,
   "id": "99b944b2",
   "metadata": {},
   "outputs": [
    {
     "data": {
      "text/plain": [
       " Husband           13193\n",
       " Not-in-family      8305\n",
       " Own-child          5068\n",
       " Unmarried          3446\n",
       " Wife               1568\n",
       " Other-relative      981\n",
       "Name: relationship, dtype: int64"
      ]
     },
     "execution_count": 21,
     "metadata": {},
     "output_type": "execute_result"
    }
   ],
   "source": [
    "data['relationship'].value_counts()"
   ]
  },
  {
   "cell_type": "code",
   "execution_count": 22,
   "id": "93ec6c64",
   "metadata": {},
   "outputs": [
    {
     "data": {
      "text/plain": [
       "array([' Not-in-family', ' Husband', ' Wife', ' Own-child', ' Unmarried',\n",
       "       ' Other-relative'], dtype=object)"
      ]
     },
     "execution_count": 22,
     "metadata": {},
     "output_type": "execute_result"
    }
   ],
   "source": [
    "data['relationship'].unique()"
   ]
  },
  {
   "cell_type": "code",
   "execution_count": 23,
   "id": "76ccd50b",
   "metadata": {},
   "outputs": [],
   "source": [
    "# remove spaces in values\n",
    "data['relationship'] = data['relationship'].apply(lambda x: x.strip())"
   ]
  },
  {
   "cell_type": "markdown",
   "id": "a8212844",
   "metadata": {},
   "source": [
    "#### 6. race"
   ]
  },
  {
   "cell_type": "code",
   "execution_count": 24,
   "id": "1c003113",
   "metadata": {},
   "outputs": [
    {
     "data": {
      "text/plain": [
       " White                 27816\n",
       " Black                  3124\n",
       " Asian-Pac-Islander     1039\n",
       " Amer-Indian-Eskimo      311\n",
       " Other                   271\n",
       "Name: race, dtype: int64"
      ]
     },
     "execution_count": 24,
     "metadata": {},
     "output_type": "execute_result"
    }
   ],
   "source": [
    "data['race'].value_counts()"
   ]
  },
  {
   "cell_type": "code",
   "execution_count": 25,
   "id": "382e6b47",
   "metadata": {},
   "outputs": [
    {
     "data": {
      "text/plain": [
       "array([' White', ' Black', ' Asian-Pac-Islander', ' Amer-Indian-Eskimo',\n",
       "       ' Other'], dtype=object)"
      ]
     },
     "execution_count": 25,
     "metadata": {},
     "output_type": "execute_result"
    }
   ],
   "source": [
    "data['race'].unique()"
   ]
  },
  {
   "cell_type": "code",
   "execution_count": 26,
   "id": "219510d7",
   "metadata": {},
   "outputs": [],
   "source": [
    "# remove spaces in values\n",
    "data['race'] = data['race'].apply(lambda x: x.strip())"
   ]
  },
  {
   "cell_type": "markdown",
   "id": "3ea3578b",
   "metadata": {},
   "source": [
    "#### 7. sex"
   ]
  },
  {
   "cell_type": "code",
   "execution_count": 27,
   "id": "1c7b5dec",
   "metadata": {},
   "outputs": [
    {
     "data": {
      "text/plain": [
       "Male      21790\n",
       "Female    10771\n",
       "Name: sex, dtype: int64"
      ]
     },
     "execution_count": 27,
     "metadata": {},
     "output_type": "execute_result"
    }
   ],
   "source": [
    "# remove spaces in values\n",
    "data['sex'] = data['sex'].apply(lambda x: x.strip())\n",
    "data['sex'].value_counts()"
   ]
  },
  {
   "cell_type": "markdown",
   "id": "0f3498ef",
   "metadata": {},
   "source": [
    "#### 8. native-country"
   ]
  },
  {
   "cell_type": "code",
   "execution_count": 28,
   "id": "86bb9321",
   "metadata": {},
   "outputs": [
    {
     "data": {
      "text/plain": [
       "array([' United-States', ' Cuba', ' Jamaica', ' India', ' ?', ' Mexico',\n",
       "       ' South', ' Puerto-Rico', ' Honduras', ' England', ' Canada',\n",
       "       ' Germany', ' Iran', ' Philippines', ' Italy', ' Poland',\n",
       "       ' Columbia', ' Cambodia', ' Thailand', ' Ecuador', ' Laos',\n",
       "       ' Taiwan', ' Haiti', ' Portugal', ' Dominican-Republic',\n",
       "       ' El-Salvador', ' France', ' Guatemala', ' China', ' Japan',\n",
       "       ' Yugoslavia', ' Peru', ' Outlying-US(Guam-USVI-etc)', ' Scotland',\n",
       "       ' Trinadad&Tobago', ' Greece', ' Nicaragua', ' Vietnam', ' Hong',\n",
       "       ' Ireland', ' Hungary', ' Holand-Netherlands'], dtype=object)"
      ]
     },
     "execution_count": 28,
     "metadata": {},
     "output_type": "execute_result"
    }
   ],
   "source": [
    "data['native-country'].unique()"
   ]
  },
  {
   "cell_type": "code",
   "execution_count": 29,
   "id": "45376605",
   "metadata": {},
   "outputs": [],
   "source": [
    "# remove spaces in values\n",
    "data['native-country'] = data['native-country'].apply(lambda x: x.strip())\n",
    "# replace '?' with null\n",
    "data['native-country'] = data['native-country'].replace(to_replace='?', value=np.nan)"
   ]
  },
  {
   "cell_type": "markdown",
   "id": "c1c89303",
   "metadata": {},
   "source": [
    "#### Handle Missing values in categorical variables"
   ]
  },
  {
   "cell_type": "code",
   "execution_count": 30,
   "id": "2dccb9b0",
   "metadata": {},
   "outputs": [
    {
     "data": {
      "text/plain": [
       "age                  0\n",
       "workclass         1836\n",
       "education            0\n",
       "marital-status       0\n",
       "occupation        1843\n",
       "relationship         0\n",
       "race                 0\n",
       "sex                  0\n",
       "capital-gain         0\n",
       "capital-loss         0\n",
       "hours-per-week       0\n",
       "native-country     583\n",
       "income               0\n",
       "dtype: int64"
      ]
     },
     "execution_count": 30,
     "metadata": {},
     "output_type": "execute_result"
    }
   ],
   "source": [
    "# check null values\n",
    "data.isnull().sum()"
   ]
  },
  {
   "cell_type": "code",
   "execution_count": 31,
   "id": "ea9f790b",
   "metadata": {},
   "outputs": [
    {
     "data": {
      "text/plain": [
       "(2399, 13)"
      ]
     },
     "execution_count": 31,
     "metadata": {},
     "output_type": "execute_result"
    }
   ],
   "source": [
    "missing = data[data.isnull().any(axis=1)]\n",
    "missing.shape"
   ]
  },
  {
   "cell_type": "code",
   "execution_count": 32,
   "id": "600de043",
   "metadata": {},
   "outputs": [
    {
     "data": {
      "text/plain": [
       "(1836, 13)"
      ]
     },
     "execution_count": 32,
     "metadata": {},
     "output_type": "execute_result"
    }
   ],
   "source": [
    "# check where work-class and occupation are missing, because both the variables are relatable\n",
    "missing[(missing['workclass'].isnull()) & (missing['occupation'].isnull())].shape"
   ]
  },
  {
   "cell_type": "code",
   "execution_count": 33,
   "id": "ff422d43",
   "metadata": {},
   "outputs": [
    {
     "data": {
      "text/html": [
       "<div>\n",
       "<style scoped>\n",
       "    .dataframe tbody tr th:only-of-type {\n",
       "        vertical-align: middle;\n",
       "    }\n",
       "\n",
       "    .dataframe tbody tr th {\n",
       "        vertical-align: top;\n",
       "    }\n",
       "\n",
       "    .dataframe thead th {\n",
       "        text-align: right;\n",
       "    }\n",
       "</style>\n",
       "<table border=\"1\" class=\"dataframe\">\n",
       "  <thead>\n",
       "    <tr style=\"text-align: right;\">\n",
       "      <th></th>\n",
       "      <th>age</th>\n",
       "      <th>workclass</th>\n",
       "      <th>education</th>\n",
       "      <th>marital-status</th>\n",
       "      <th>occupation</th>\n",
       "      <th>relationship</th>\n",
       "      <th>race</th>\n",
       "      <th>sex</th>\n",
       "      <th>capital-gain</th>\n",
       "      <th>capital-loss</th>\n",
       "      <th>hours-per-week</th>\n",
       "      <th>native-country</th>\n",
       "      <th>income</th>\n",
       "    </tr>\n",
       "  </thead>\n",
       "  <tbody>\n",
       "    <tr>\n",
       "      <th>5361</th>\n",
       "      <td>18</td>\n",
       "      <td>Never-worked</td>\n",
       "      <td>10th</td>\n",
       "      <td>Never-married</td>\n",
       "      <td>NaN</td>\n",
       "      <td>Own-child</td>\n",
       "      <td>White</td>\n",
       "      <td>Male</td>\n",
       "      <td>0</td>\n",
       "      <td>0</td>\n",
       "      <td>40</td>\n",
       "      <td>United-States</td>\n",
       "      <td>&lt;=50K</td>\n",
       "    </tr>\n",
       "    <tr>\n",
       "      <th>10845</th>\n",
       "      <td>23</td>\n",
       "      <td>Never-worked</td>\n",
       "      <td>7th-8th</td>\n",
       "      <td>Divorced</td>\n",
       "      <td>NaN</td>\n",
       "      <td>Not-in-family</td>\n",
       "      <td>White</td>\n",
       "      <td>Male</td>\n",
       "      <td>0</td>\n",
       "      <td>0</td>\n",
       "      <td>35</td>\n",
       "      <td>United-States</td>\n",
       "      <td>&lt;=50K</td>\n",
       "    </tr>\n",
       "    <tr>\n",
       "      <th>14772</th>\n",
       "      <td>17</td>\n",
       "      <td>Never-worked</td>\n",
       "      <td>10th</td>\n",
       "      <td>Never-married</td>\n",
       "      <td>NaN</td>\n",
       "      <td>Own-child</td>\n",
       "      <td>White</td>\n",
       "      <td>Male</td>\n",
       "      <td>0</td>\n",
       "      <td>0</td>\n",
       "      <td>30</td>\n",
       "      <td>United-States</td>\n",
       "      <td>&lt;=50K</td>\n",
       "    </tr>\n",
       "    <tr>\n",
       "      <th>20337</th>\n",
       "      <td>18</td>\n",
       "      <td>Never-worked</td>\n",
       "      <td>11th</td>\n",
       "      <td>Never-married</td>\n",
       "      <td>NaN</td>\n",
       "      <td>Own-child</td>\n",
       "      <td>White</td>\n",
       "      <td>Female</td>\n",
       "      <td>0</td>\n",
       "      <td>0</td>\n",
       "      <td>10</td>\n",
       "      <td>United-States</td>\n",
       "      <td>&lt;=50K</td>\n",
       "    </tr>\n",
       "    <tr>\n",
       "      <th>23232</th>\n",
       "      <td>20</td>\n",
       "      <td>Never-worked</td>\n",
       "      <td>Some-college</td>\n",
       "      <td>Never-married</td>\n",
       "      <td>NaN</td>\n",
       "      <td>Own-child</td>\n",
       "      <td>Black</td>\n",
       "      <td>Male</td>\n",
       "      <td>0</td>\n",
       "      <td>0</td>\n",
       "      <td>40</td>\n",
       "      <td>United-States</td>\n",
       "      <td>&lt;=50K</td>\n",
       "    </tr>\n",
       "    <tr>\n",
       "      <th>32304</th>\n",
       "      <td>30</td>\n",
       "      <td>Never-worked</td>\n",
       "      <td>HS-grad</td>\n",
       "      <td>Married-civ-spouse</td>\n",
       "      <td>NaN</td>\n",
       "      <td>Wife</td>\n",
       "      <td>Black</td>\n",
       "      <td>Female</td>\n",
       "      <td>0</td>\n",
       "      <td>0</td>\n",
       "      <td>40</td>\n",
       "      <td>United-States</td>\n",
       "      <td>&lt;=50K</td>\n",
       "    </tr>\n",
       "    <tr>\n",
       "      <th>32314</th>\n",
       "      <td>18</td>\n",
       "      <td>Never-worked</td>\n",
       "      <td>Some-college</td>\n",
       "      <td>Never-married</td>\n",
       "      <td>NaN</td>\n",
       "      <td>Own-child</td>\n",
       "      <td>White</td>\n",
       "      <td>Male</td>\n",
       "      <td>0</td>\n",
       "      <td>0</td>\n",
       "      <td>4</td>\n",
       "      <td>United-States</td>\n",
       "      <td>&lt;=50K</td>\n",
       "    </tr>\n",
       "  </tbody>\n",
       "</table>\n",
       "</div>"
      ],
      "text/plain": [
       "       age     workclass     education      marital-status occupation  \\\n",
       "5361    18  Never-worked          10th       Never-married        NaN   \n",
       "10845   23  Never-worked       7th-8th            Divorced        NaN   \n",
       "14772   17  Never-worked          10th       Never-married        NaN   \n",
       "20337   18  Never-worked          11th       Never-married        NaN   \n",
       "23232   20  Never-worked  Some-college       Never-married        NaN   \n",
       "32304   30  Never-worked       HS-grad  Married-civ-spouse        NaN   \n",
       "32314   18  Never-worked  Some-college       Never-married        NaN   \n",
       "\n",
       "        relationship   race     sex  capital-gain  capital-loss  \\\n",
       "5361       Own-child  White    Male             0             0   \n",
       "10845  Not-in-family  White    Male             0             0   \n",
       "14772      Own-child  White    Male             0             0   \n",
       "20337      Own-child  White  Female             0             0   \n",
       "23232      Own-child  Black    Male             0             0   \n",
       "32304           Wife  Black  Female             0             0   \n",
       "32314      Own-child  White    Male             0             0   \n",
       "\n",
       "       hours-per-week native-country income  \n",
       "5361               40  United-States  <=50K  \n",
       "10845              35  United-States  <=50K  \n",
       "14772              30  United-States  <=50K  \n",
       "20337              10  United-States  <=50K  \n",
       "23232              40  United-States  <=50K  \n",
       "32304              40  United-States  <=50K  \n",
       "32314               4  United-States  <=50K  "
      ]
     },
     "execution_count": 33,
     "metadata": {},
     "output_type": "execute_result"
    }
   ],
   "source": [
    "# check where one of them (work-class and occupation) is missing, because both the variables are relatable\n",
    "missing[~(missing['workclass'].isnull()) & (missing['occupation'].isnull())]"
   ]
  },
  {
   "cell_type": "code",
   "execution_count": 34,
   "id": "0d1405c2",
   "metadata": {},
   "outputs": [
    {
     "data": {
      "text/plain": [
       "(27, 13)"
      ]
     },
     "execution_count": 34,
     "metadata": {},
     "output_type": "execute_result"
    }
   ],
   "source": [
    "# check where work-class, occupation and native-country are missing\n",
    "missing[(missing['workclass'].isnull()) & (missing['occupation'].isnull()) & (missing['native-country'].isnull())].shape"
   ]
  },
  {
   "cell_type": "code",
   "execution_count": 35,
   "id": "faa0cae1",
   "metadata": {},
   "outputs": [
    {
     "name": "stdout",
     "output_type": "stream",
     "text": [
      "Shape of the data before dropping missing values: (32561, 13)\n",
      "Shape of the data after dropping missing values: (30162, 13)\n"
     ]
    }
   ],
   "source": [
    "# Let's drop all the records where atleast one value from records are missing\n",
    "print(\"Shape of the data before dropping missing values: {}\".format(data.shape))\n",
    "data = data.dropna(axis=0)\n",
    "print(\"Shape of the data after dropping missing values: {}\".format(data.shape))"
   ]
  },
  {
   "cell_type": "markdown",
   "id": "8af24dba",
   "metadata": {},
   "source": [
    "#### 9. Distribution of age, capital-gain, capital-loss and hours-per-week"
   ]
  },
  {
   "cell_type": "code",
   "execution_count": 36,
   "id": "3c0eed09",
   "metadata": {},
   "outputs": [
    {
     "data": {
      "image/png": "[encoded data removed]",
      "text/plain": [
       "<Figure size 1440x360 with 4 Axes>"
      ]
     },
     "metadata": {
      "needs_background": "light"
     },
     "output_type": "display_data"
    }
   ],
   "source": [
    "fig, (ax1, ax2, ax3, ax4) = plt.subplots(nrows=1, ncols=4, figsize=(20,5))\n",
    "ax1.hist(data[\"age\"], color='blue')\n",
    "ax1.set_title(\"Distribution of 'age' variable\")\n",
    "ax1.set_xlabel(\"Age\")\n",
    "ax1.set_ylabel(\"Frequency\")\n",
    "\n",
    "ax2.hist(data[\"capital-gain\"], color='green')\n",
    "ax2.set_title(\"Distribution of 'capital-gain' variable\")\n",
    "ax2.set_xlabel(\"Capital Gain\")\n",
    "\n",
    "ax3.hist(data[\"capital-loss\"], color='red')\n",
    "ax3.set_title(\"Distribution of 'capital-loss' variable\")\n",
    "ax3.set_xlabel(\"Capital Loss\")\n",
    "\n",
    "ax4.hist(data[\"hours-per-week\"], color='cyan')\n",
    "ax4.set_title(\"Distribution of 'hours-per-week' variable\")\n",
    "ax4.set_xlabel(\"Hours Per Week\")\n",
    "\n",
    "plt.show()"
   ]
  },
  {
   "cell_type": "markdown",
   "id": "a203f855",
   "metadata": {},
   "source": [
    "<b>Note:</b> (from above Distribution plots)\n",
    "<ol>\n",
    "    <li>In this dataset, individuals with age less than 45 are uniformly distributed and few people having age greater than 70</li>\n",
    "    <li>Most of the people having zero capital gain and very few near to 100000</li>\n",
    "    <li>Some of the people having capital loss near to 2000 but most of the people having zero loss</li>\n",
    "    <li>Maximum person do 35 to 40 hours per week and few of them are doing more than 80 hours per week\n",
    "    </li>\n",
    "</ol>"
   ]
  },
  {
   "cell_type": "code",
   "execution_count": 37,
   "id": "c6459d8d",
   "metadata": {},
   "outputs": [
    {
     "data": {
      "text/plain": [
       "Index(['age', 'workclass', 'education', 'marital-status', 'occupation',\n",
       "       'relationship', 'race', 'sex', 'capital-gain', 'capital-loss',\n",
       "       'hours-per-week', 'native-country', 'income'],\n",
       "      dtype='object')"
      ]
     },
     "execution_count": 37,
     "metadata": {},
     "output_type": "execute_result"
    }
   ],
   "source": [
    "data.columns"
   ]
  },
  {
   "cell_type": "markdown",
   "id": "d45af6a3",
   "metadata": {},
   "source": [
    "#### 10. Distribution of categorical variables:"
   ]
  },
  {
   "cell_type": "code",
   "execution_count": 38,
   "id": "6fa0dc5f",
   "metadata": {
    "scrolled": false
   },
   "outputs": [
    {
     "data": {
      "image/png": "[encoded data removed]",
      "text/plain": [
       "<Figure size 1800x2520 with 8 Axes>"
      ]
     },
     "metadata": {
      "needs_background": "light"
     },
     "output_type": "display_data"
    }
   ],
   "source": [
    "# categ_col = \"sex\"\n",
    "cols = [[\"workclass\", \"occupation\"], [\"education\", \"race\"], [\"marital-status\", \"relationship\"], \n",
    "        [\"sex\", 'native-country']\n",
    "       ]\n",
    "# \n",
    "fig, ax = plt.subplots(nrows=4, ncols=2, figsize=(25,35))\n",
    "\n",
    "for i in range(4):\n",
    "    for j in range(2):\n",
    "        x = list(data.groupby(cols[i][j])[cols[i][j]].count().keys())\n",
    "        h = list(data.groupby(cols[i][j])[cols[i][j]].count().values)\n",
    "        ax[i, j].bar(x=x, height=h)\n",
    "        ax[i, j].set_title(\"Distribution of {}\".format(cols[i][j]))\n",
    "        #ax[i, j].set_xlabel(cols[i][j])\n",
    "        ax[i, j].set_ylabel(\"Frequency\")\n",
    "        ax[i, j].tick_params(labelrotation=30)\n",
    "\n",
    "plt.show()"
   ]
  },
  {
   "cell_type": "markdown",
   "id": "8b89194b",
   "metadata": {},
   "source": [
    "#### 11. Outliers Detection\n",
    "For numerical variables"
   ]
  },
  {
   "cell_type": "code",
   "execution_count": 39,
   "id": "ccd41f0f",
   "metadata": {},
   "outputs": [
    {
     "data": {
      "image/png": "[encoded data removed]",
      "text/plain": [
       "<Figure size 1440x360 with 4 Axes>"
      ]
     },
     "metadata": {
      "needs_background": "light"
     },
     "output_type": "display_data"
    }
   ],
   "source": [
    "# using boxplot\n",
    "fig, (ax1, ax2, ax3, ax4) = plt.subplots(nrows=1, ncols=4, figsize=(20,5))\n",
    "\n",
    "# Age\n",
    "sns.boxplot(x=data[\"age\"], ax=ax1)\n",
    "ax1.grid()\n",
    "\n",
    "# Capital Gain\n",
    "sns.boxplot(x=data[\"capital-gain\"], ax=ax2)\n",
    "ax2.grid()\n",
    "\n",
    "# Capital Loss\n",
    "sns.boxplot(x=data[\"capital-loss\"], ax=ax3)\n",
    "ax3.grid()\n",
    "\n",
    "# Hours per week\n",
    "sns.boxplot(x=data[\"hours-per-week\"], ax=ax4)\n",
    "ax4.grid()\n",
    "\n",
    "plt.show()"
   ]
  },
  {
   "cell_type": "markdown",
   "id": "31188d43",
   "metadata": {},
   "source": [
    "<b>Note (from above Box Plots):</b>\n",
    "<ol>\n",
    "    <li>age: There are some of individuals having more than 75 years of age but we can't say it as outliers.</li>\n",
    "    <li>capital-gain: Here, clearly we can see that few of the capital gain near to 100000. this can create the problem for linear model in order to predict individual's income.It is clear outlier case.</li>\n",
    "    <li>capital-loss: some of the outliers present which have capital loss more than 3000</li>\n",
    "</ol>"
   ]
  },
  {
   "cell_type": "markdown",
   "id": "1e4e4e49",
   "metadata": {},
   "source": [
    "### Bi-Variate Analysis\n",
    "    1. Correlation Analysis\n",
    "    2. Independent Variable vs Dependent Variable"
   ]
  },
  {
   "cell_type": "markdown",
   "id": "da359946",
   "metadata": {},
   "source": [
    "#### 1. Correlation Analysis"
   ]
  },
  {
   "cell_type": "code",
   "execution_count": 40,
   "id": "6486b31f",
   "metadata": {},
   "outputs": [
    {
     "data": {
      "image/png": "[encoded data removed]",
      "text/plain": [
       "<Figure size 576x504 with 2 Axes>"
      ]
     },
     "metadata": {
      "needs_background": "light"
     },
     "output_type": "display_data"
    }
   ],
   "source": [
    "plt.figure(figsize=(8,7))\n",
    "sns.heatmap(data.corr(), annot=True)\n",
    "plt.show()"
   ]
  },
  {
   "cell_type": "markdown",
   "id": "31c92dff",
   "metadata": {},
   "source": [
    "Note: Here, None of the independent variables are correlated."
   ]
  },
  {
   "cell_type": "markdown",
   "id": "a4ad77c0",
   "metadata": {},
   "source": [
    "#### 2. Independent variable vs Dependent Variable"
   ]
  },
  {
   "cell_type": "code",
   "execution_count": 41,
   "id": "36435d37",
   "metadata": {},
   "outputs": [
    {
     "data": {
      "image/png": "[encoded data removed]",
      "text/plain": [
       "<Figure size 432x288 with 1 Axes>"
      ]
     },
     "metadata": {
      "needs_background": "light"
     },
     "output_type": "display_data"
    }
   ],
   "source": [
    "# Dependent Variable Proportion\n",
    "income_stats = sns.countplot(x=data['income'])"
   ]
  },
  {
   "cell_type": "code",
   "execution_count": 42,
   "id": "59a21434",
   "metadata": {},
   "outputs": [
    {
     "data": {
      "image/png": "[encoded data removed]",
      "text/plain": [
       "<Figure size 432x288 with 1 Axes>"
      ]
     },
     "metadata": {
      "needs_background": "light"
     },
     "output_type": "display_data"
    },
    {
     "data": {
      "text/plain": [
       "income\n",
       "<=50K    34.0\n",
       ">50K     43.0\n",
       "Name: age, dtype: float64"
      ]
     },
     "execution_count": 42,
     "metadata": {},
     "output_type": "execute_result"
    }
   ],
   "source": [
    "### Box Plot - Age vs Income\n",
    "sns.boxplot(x='income', y='age', data=data)\n",
    "plt.show()\n",
    "data.groupby('income')['age'].median()"
   ]
  },
  {
   "cell_type": "code",
   "execution_count": 43,
   "id": "aa92f3de",
   "metadata": {},
   "outputs": [
    {
     "data": {
      "image/png": "[encoded data removed]",
      "text/plain": [
       "<Figure size 432x288 with 1 Axes>"
      ]
     },
     "metadata": {
      "needs_background": "light"
     },
     "output_type": "display_data"
    },
    {
     "data": {
      "text/plain": [
       "income\n",
       "<=50K    0.0\n",
       ">50K     0.0\n",
       "Name: capital-gain, dtype: float64"
      ]
     },
     "execution_count": 43,
     "metadata": {},
     "output_type": "execute_result"
    }
   ],
   "source": [
    "### Box Plot - Capital Gain vs Income\n",
    "sns.boxplot(x='income', y='capital-gain', data=data)\n",
    "plt.show()\n",
    "data.groupby('income')['capital-gain'].median()"
   ]
  },
  {
   "cell_type": "code",
   "execution_count": 44,
   "id": "e502e3af",
   "metadata": {},
   "outputs": [
    {
     "data": {
      "image/png": "[encoded data removed]",
      "text/plain": [
       "<Figure size 432x288 with 1 Axes>"
      ]
     },
     "metadata": {
      "needs_background": "light"
     },
     "output_type": "display_data"
    },
    {
     "data": {
      "text/plain": [
       "income\n",
       "<=50K    0.0\n",
       ">50K     0.0\n",
       "Name: capital-loss, dtype: float64"
      ]
     },
     "execution_count": 44,
     "metadata": {},
     "output_type": "execute_result"
    }
   ],
   "source": [
    "### Box Plot - Capital Loss vs Income\n",
    "sns.boxplot(x='income', y='capital-loss', data=data)\n",
    "plt.show()\n",
    "data.groupby('income')['capital-loss'].median()"
   ]
  },
  {
   "cell_type": "code",
   "execution_count": 45,
   "id": "dc5047a6",
   "metadata": {},
   "outputs": [
    {
     "data": {
      "image/png": "[encoded data removed]",
      "text/plain": [
       "<Figure size 432x288 with 1 Axes>"
      ]
     },
     "metadata": {
      "needs_background": "light"
     },
     "output_type": "display_data"
    },
    {
     "data": {
      "text/plain": [
       "income\n",
       "<=50K    40.0\n",
       ">50K     40.0\n",
       "Name: hours-per-week, dtype: float64"
      ]
     },
     "execution_count": 45,
     "metadata": {},
     "output_type": "execute_result"
    }
   ],
   "source": [
    "### Box Plot - Hours Per Week vs Income\n",
    "sns.boxplot(x='income', y='hours-per-week', data=data)\n",
    "plt.show()\n",
    "data.groupby('income')['hours-per-week'].median()"
   ]
  },
  {
   "cell_type": "code",
   "execution_count": 46,
   "id": "b66d807f",
   "metadata": {},
   "outputs": [
    {
     "data": {
      "image/png": "[encoded data removed]",
      "text/plain": [
       "<Figure size 432x288 with 1 Axes>"
      ]
     },
     "metadata": {
      "needs_background": "light"
     },
     "output_type": "display_data"
    },
    {
     "name": "stdout",
     "output_type": "stream",
     "text": [
      "income     <=50K      >50K\n",
      "sex                       \n",
      "Female  0.886322  0.113678\n",
      "Male    0.686163  0.313837\n",
      "All     0.751078  0.248922\n"
     ]
    }
   ],
   "source": [
    "### Sex vs Income\n",
    "sns.countplot(x='sex', hue='income', data=data)\n",
    "plt.show()\n",
    "gender_income = pd.crosstab(index=data['sex'],\n",
    "                            columns=data['income'],\n",
    "                            margins=True,\n",
    "                            normalize='index'\n",
    "                           )\n",
    "print(gender_income)"
   ]
  },
  {
   "cell_type": "code",
   "execution_count": 47,
   "id": "8a80deb6",
   "metadata": {},
   "outputs": [
    {
     "data": {
      "image/png": "[encoded data removed]",
      "text/plain": [
       "<Figure size 1008x360 with 1 Axes>"
      ]
     },
     "metadata": {
      "needs_background": "light"
     },
     "output_type": "display_data"
    },
    {
     "name": "stdout",
     "output_type": "stream",
     "text": [
      "income               <=50K      >50K\n",
      "workclass                           \n",
      "Federal-gov       0.612937  0.387063\n",
      "Local-gov         0.705370  0.294630\n",
      "Private           0.781208  0.218792\n",
      "Self-emp-inc      0.441341  0.558659\n",
      "Self-emp-not-inc  0.714286  0.285714\n",
      "State-gov         0.731040  0.268960\n",
      "Without-pay       1.000000  0.000000\n"
     ]
    }
   ],
   "source": [
    "### work-class vs Income\n",
    "plt.figure(figsize=(14,5))\n",
    "sns.countplot(x='workclass', hue='income', data=data)\n",
    "plt.xticks(rotation=45)\n",
    "plt.show()\n",
    "crosstable = pd.crosstab(index=data['workclass'],\n",
    "                            columns=data['income'],\n",
    "                            normalize='index'\n",
    "                           )\n",
    "print(crosstable)"
   ]
  },
  {
   "cell_type": "code",
   "execution_count": 48,
   "id": "4739ccda",
   "metadata": {},
   "outputs": [
    {
     "data": {
      "image/png": "[encoded data removed]",
      "text/plain": [
       "<Figure size 1008x360 with 1 Axes>"
      ]
     },
     "metadata": {
      "needs_background": "light"
     },
     "output_type": "display_data"
    },
    {
     "name": "stdout",
     "output_type": "stream",
     "text": [
      "income           <=50K      >50K\n",
      "education                       \n",
      "10th          0.928049  0.071951\n",
      "11th          0.943702  0.056298\n",
      "12th          0.923077  0.076923\n",
      "1st-4th       0.960265  0.039735\n",
      "5th-6th       0.958333  0.041667\n",
      "7th-8th       0.937163  0.062837\n",
      "9th           0.945055  0.054945\n",
      "Assoc-acdm    0.746032  0.253968\n",
      "Assoc-voc     0.736802  0.263198\n",
      "Bachelors     0.578509  0.421491\n",
      "Doctorate     0.253333  0.746667\n",
      "HS-grad       0.835671  0.164329\n",
      "Masters       0.435771  0.564229\n",
      "Preschool     1.000000  0.000000\n",
      "Prof-school   0.250923  0.749077\n",
      "Some-college  0.799940  0.200060\n"
     ]
    }
   ],
   "source": [
    "### education vs Income\n",
    "plt.figure(figsize=(14,5))\n",
    "sns.countplot(x='education', hue='income', data=data)\n",
    "plt.xticks(rotation=45)\n",
    "plt.show()\n",
    "crosstable = pd.crosstab(index=data['education'],\n",
    "                            columns=data['income'],\n",
    "                            normalize='index'\n",
    "                           )\n",
    "print(crosstable)"
   ]
  },
  {
   "cell_type": "markdown",
   "id": "ac802b1e",
   "metadata": {},
   "source": [
    "### Predictive Modelling"
   ]
  },
  {
   "cell_type": "code",
   "execution_count": 49,
   "id": "84e22213",
   "metadata": {},
   "outputs": [],
   "source": [
    "from sklearn.model_selection import train_test_split\n",
    "from sklearn.linear_model import LogisticRegression\n",
    "from sklearn.metrics import accuracy_score, confusion_matrix, precision_score, recall_score\n",
    "from sklearn.metrics import roc_auc_score, roc_curve, precision_recall_curve"
   ]
  },
  {
   "cell_type": "markdown",
   "id": "0bedc480",
   "metadata": {},
   "source": [
    "#### 1. Feature Engineering and Preprocessing"
   ]
  },
  {
   "cell_type": "code",
   "execution_count": 50,
   "id": "a750f007",
   "metadata": {},
   "outputs": [
    {
     "data": {
      "text/html": [
       "<div>\n",
       "<style scoped>\n",
       "    .dataframe tbody tr th:only-of-type {\n",
       "        vertical-align: middle;\n",
       "    }\n",
       "\n",
       "    .dataframe tbody tr th {\n",
       "        vertical-align: top;\n",
       "    }\n",
       "\n",
       "    .dataframe thead th {\n",
       "        text-align: right;\n",
       "    }\n",
       "</style>\n",
       "<table border=\"1\" class=\"dataframe\">\n",
       "  <thead>\n",
       "    <tr style=\"text-align: right;\">\n",
       "      <th></th>\n",
       "      <th>age</th>\n",
       "      <th>workclass</th>\n",
       "      <th>education</th>\n",
       "      <th>marital-status</th>\n",
       "      <th>occupation</th>\n",
       "      <th>relationship</th>\n",
       "      <th>race</th>\n",
       "      <th>sex</th>\n",
       "      <th>capital-gain</th>\n",
       "      <th>capital-loss</th>\n",
       "      <th>hours-per-week</th>\n",
       "      <th>native-country</th>\n",
       "      <th>income</th>\n",
       "    </tr>\n",
       "  </thead>\n",
       "  <tbody>\n",
       "    <tr>\n",
       "      <th>0</th>\n",
       "      <td>39</td>\n",
       "      <td>State-gov</td>\n",
       "      <td>Bachelors</td>\n",
       "      <td>Never-married</td>\n",
       "      <td>Adm-clerical</td>\n",
       "      <td>Not-in-family</td>\n",
       "      <td>White</td>\n",
       "      <td>Male</td>\n",
       "      <td>2174</td>\n",
       "      <td>0</td>\n",
       "      <td>40</td>\n",
       "      <td>United-States</td>\n",
       "      <td>&lt;=50K</td>\n",
       "    </tr>\n",
       "    <tr>\n",
       "      <th>1</th>\n",
       "      <td>50</td>\n",
       "      <td>Self-emp-not-inc</td>\n",
       "      <td>Bachelors</td>\n",
       "      <td>Married-civ-spouse</td>\n",
       "      <td>Exec-managerial</td>\n",
       "      <td>Husband</td>\n",
       "      <td>White</td>\n",
       "      <td>Male</td>\n",
       "      <td>0</td>\n",
       "      <td>0</td>\n",
       "      <td>13</td>\n",
       "      <td>United-States</td>\n",
       "      <td>&lt;=50K</td>\n",
       "    </tr>\n",
       "    <tr>\n",
       "      <th>2</th>\n",
       "      <td>38</td>\n",
       "      <td>Private</td>\n",
       "      <td>HS-grad</td>\n",
       "      <td>Divorced</td>\n",
       "      <td>Handlers-cleaners</td>\n",
       "      <td>Not-in-family</td>\n",
       "      <td>White</td>\n",
       "      <td>Male</td>\n",
       "      <td>0</td>\n",
       "      <td>0</td>\n",
       "      <td>40</td>\n",
       "      <td>United-States</td>\n",
       "      <td>&lt;=50K</td>\n",
       "    </tr>\n",
       "    <tr>\n",
       "      <th>3</th>\n",
       "      <td>53</td>\n",
       "      <td>Private</td>\n",
       "      <td>11th</td>\n",
       "      <td>Married-civ-spouse</td>\n",
       "      <td>Handlers-cleaners</td>\n",
       "      <td>Husband</td>\n",
       "      <td>Black</td>\n",
       "      <td>Male</td>\n",
       "      <td>0</td>\n",
       "      <td>0</td>\n",
       "      <td>40</td>\n",
       "      <td>United-States</td>\n",
       "      <td>&lt;=50K</td>\n",
       "    </tr>\n",
       "    <tr>\n",
       "      <th>4</th>\n",
       "      <td>28</td>\n",
       "      <td>Private</td>\n",
       "      <td>Bachelors</td>\n",
       "      <td>Married-civ-spouse</td>\n",
       "      <td>Prof-specialty</td>\n",
       "      <td>Wife</td>\n",
       "      <td>Black</td>\n",
       "      <td>Female</td>\n",
       "      <td>0</td>\n",
       "      <td>0</td>\n",
       "      <td>40</td>\n",
       "      <td>Cuba</td>\n",
       "      <td>&lt;=50K</td>\n",
       "    </tr>\n",
       "  </tbody>\n",
       "</table>\n",
       "</div>"
      ],
      "text/plain": [
       "   age         workclass  education      marital-status         occupation  \\\n",
       "0   39         State-gov  Bachelors       Never-married       Adm-clerical   \n",
       "1   50  Self-emp-not-inc  Bachelors  Married-civ-spouse    Exec-managerial   \n",
       "2   38           Private    HS-grad            Divorced  Handlers-cleaners   \n",
       "3   53           Private       11th  Married-civ-spouse  Handlers-cleaners   \n",
       "4   28           Private  Bachelors  Married-civ-spouse     Prof-specialty   \n",
       "\n",
       "    relationship   race     sex  capital-gain  capital-loss  hours-per-week  \\\n",
       "0  Not-in-family  White    Male          2174             0              40   \n",
       "1        Husband  White    Male             0             0              13   \n",
       "2  Not-in-family  White    Male             0             0              40   \n",
       "3        Husband  Black    Male             0             0              40   \n",
       "4           Wife  Black  Female             0             0              40   \n",
       "\n",
       "  native-country income  \n",
       "0  United-States  <=50K  \n",
       "1  United-States  <=50K  \n",
       "2  United-States  <=50K  \n",
       "3  United-States  <=50K  \n",
       "4           Cuba  <=50K  "
      ]
     },
     "execution_count": 50,
     "metadata": {},
     "output_type": "execute_result"
    }
   ],
   "source": [
    "data.head()"
   ]
  },
  {
   "cell_type": "code",
   "execution_count": 51,
   "id": "01c4a1ad",
   "metadata": {},
   "outputs": [
    {
     "data": {
      "text/plain": [
       "array(['<=50K', '>50K'], dtype=object)"
      ]
     },
     "execution_count": 51,
     "metadata": {},
     "output_type": "execute_result"
    }
   ],
   "source": [
    "data['income'].unique()"
   ]
  },
  {
   "cell_type": "code",
   "execution_count": 52,
   "id": "8aa373b1",
   "metadata": {},
   "outputs": [
    {
     "data": {
      "text/html": [
       "<div>\n",
       "<style scoped>\n",
       "    .dataframe tbody tr th:only-of-type {\n",
       "        vertical-align: middle;\n",
       "    }\n",
       "\n",
       "    .dataframe tbody tr th {\n",
       "        vertical-align: top;\n",
       "    }\n",
       "\n",
       "    .dataframe thead th {\n",
       "        text-align: right;\n",
       "    }\n",
       "</style>\n",
       "<table border=\"1\" class=\"dataframe\">\n",
       "  <thead>\n",
       "    <tr style=\"text-align: right;\">\n",
       "      <th></th>\n",
       "      <th>age</th>\n",
       "      <th>workclass</th>\n",
       "      <th>education</th>\n",
       "      <th>marital-status</th>\n",
       "      <th>occupation</th>\n",
       "      <th>relationship</th>\n",
       "      <th>race</th>\n",
       "      <th>sex</th>\n",
       "      <th>capital-gain</th>\n",
       "      <th>capital-loss</th>\n",
       "      <th>hours-per-week</th>\n",
       "      <th>native-country</th>\n",
       "      <th>income_class</th>\n",
       "    </tr>\n",
       "  </thead>\n",
       "  <tbody>\n",
       "    <tr>\n",
       "      <th>0</th>\n",
       "      <td>39</td>\n",
       "      <td>State-gov</td>\n",
       "      <td>Bachelors</td>\n",
       "      <td>Never-married</td>\n",
       "      <td>Adm-clerical</td>\n",
       "      <td>Not-in-family</td>\n",
       "      <td>White</td>\n",
       "      <td>Male</td>\n",
       "      <td>2174</td>\n",
       "      <td>0</td>\n",
       "      <td>40</td>\n",
       "      <td>United-States</td>\n",
       "      <td>0</td>\n",
       "    </tr>\n",
       "    <tr>\n",
       "      <th>1</th>\n",
       "      <td>50</td>\n",
       "      <td>Self-emp-not-inc</td>\n",
       "      <td>Bachelors</td>\n",
       "      <td>Married-civ-spouse</td>\n",
       "      <td>Exec-managerial</td>\n",
       "      <td>Husband</td>\n",
       "      <td>White</td>\n",
       "      <td>Male</td>\n",
       "      <td>0</td>\n",
       "      <td>0</td>\n",
       "      <td>13</td>\n",
       "      <td>United-States</td>\n",
       "      <td>0</td>\n",
       "    </tr>\n",
       "    <tr>\n",
       "      <th>2</th>\n",
       "      <td>38</td>\n",
       "      <td>Private</td>\n",
       "      <td>HS-grad</td>\n",
       "      <td>Divorced</td>\n",
       "      <td>Handlers-cleaners</td>\n",
       "      <td>Not-in-family</td>\n",
       "      <td>White</td>\n",
       "      <td>Male</td>\n",
       "      <td>0</td>\n",
       "      <td>0</td>\n",
       "      <td>40</td>\n",
       "      <td>United-States</td>\n",
       "      <td>0</td>\n",
       "    </tr>\n",
       "    <tr>\n",
       "      <th>3</th>\n",
       "      <td>53</td>\n",
       "      <td>Private</td>\n",
       "      <td>11th</td>\n",
       "      <td>Married-civ-spouse</td>\n",
       "      <td>Handlers-cleaners</td>\n",
       "      <td>Husband</td>\n",
       "      <td>Black</td>\n",
       "      <td>Male</td>\n",
       "      <td>0</td>\n",
       "      <td>0</td>\n",
       "      <td>40</td>\n",
       "      <td>United-States</td>\n",
       "      <td>0</td>\n",
       "    </tr>\n",
       "    <tr>\n",
       "      <th>4</th>\n",
       "      <td>28</td>\n",
       "      <td>Private</td>\n",
       "      <td>Bachelors</td>\n",
       "      <td>Married-civ-spouse</td>\n",
       "      <td>Prof-specialty</td>\n",
       "      <td>Wife</td>\n",
       "      <td>Black</td>\n",
       "      <td>Female</td>\n",
       "      <td>0</td>\n",
       "      <td>0</td>\n",
       "      <td>40</td>\n",
       "      <td>Cuba</td>\n",
       "      <td>0</td>\n",
       "    </tr>\n",
       "  </tbody>\n",
       "</table>\n",
       "</div>"
      ],
      "text/plain": [
       "   age         workclass  education      marital-status         occupation  \\\n",
       "0   39         State-gov  Bachelors       Never-married       Adm-clerical   \n",
       "1   50  Self-emp-not-inc  Bachelors  Married-civ-spouse    Exec-managerial   \n",
       "2   38           Private    HS-grad            Divorced  Handlers-cleaners   \n",
       "3   53           Private       11th  Married-civ-spouse  Handlers-cleaners   \n",
       "4   28           Private  Bachelors  Married-civ-spouse     Prof-specialty   \n",
       "\n",
       "    relationship   race     sex  capital-gain  capital-loss  hours-per-week  \\\n",
       "0  Not-in-family  White    Male          2174             0              40   \n",
       "1        Husband  White    Male             0             0              13   \n",
       "2  Not-in-family  White    Male             0             0              40   \n",
       "3        Husband  Black    Male             0             0              40   \n",
       "4           Wife  Black  Female             0             0              40   \n",
       "\n",
       "  native-country  income_class  \n",
       "0  United-States             0  \n",
       "1  United-States             0  \n",
       "2  United-States             0  \n",
       "3  United-States             0  \n",
       "4           Cuba             0  "
      ]
     },
     "execution_count": 52,
     "metadata": {},
     "output_type": "execute_result"
    }
   ],
   "source": [
    "# Numerical encoding of outcome variable\n",
    "data['income_class'] = data['income'].map({\n",
    "    '<=50K': 0, '>50K': 1\n",
    "})\n",
    "data = data.drop(columns=['income'])\n",
    "data.head()"
   ]
  },
  {
   "cell_type": "code",
   "execution_count": 53,
   "id": "0766aa2e",
   "metadata": {},
   "outputs": [
    {
     "data": {
      "text/html": [
       "<div>\n",
       "<style scoped>\n",
       "    .dataframe tbody tr th:only-of-type {\n",
       "        vertical-align: middle;\n",
       "    }\n",
       "\n",
       "    .dataframe tbody tr th {\n",
       "        vertical-align: top;\n",
       "    }\n",
       "\n",
       "    .dataframe thead th {\n",
       "        text-align: right;\n",
       "    }\n",
       "</style>\n",
       "<table border=\"1\" class=\"dataframe\">\n",
       "  <thead>\n",
       "    <tr style=\"text-align: right;\">\n",
       "      <th></th>\n",
       "      <th>age</th>\n",
       "      <th>capital-gain</th>\n",
       "      <th>capital-loss</th>\n",
       "      <th>hours-per-week</th>\n",
       "      <th>income_class</th>\n",
       "      <th>workclass_Local-gov</th>\n",
       "      <th>workclass_Private</th>\n",
       "      <th>workclass_Self-emp-inc</th>\n",
       "      <th>workclass_Self-emp-not-inc</th>\n",
       "      <th>workclass_State-gov</th>\n",
       "      <th>...</th>\n",
       "      <th>native-country_Portugal</th>\n",
       "      <th>native-country_Puerto-Rico</th>\n",
       "      <th>native-country_Scotland</th>\n",
       "      <th>native-country_South</th>\n",
       "      <th>native-country_Taiwan</th>\n",
       "      <th>native-country_Thailand</th>\n",
       "      <th>native-country_Trinadad&amp;Tobago</th>\n",
       "      <th>native-country_United-States</th>\n",
       "      <th>native-country_Vietnam</th>\n",
       "      <th>native-country_Yugoslavia</th>\n",
       "    </tr>\n",
       "  </thead>\n",
       "  <tbody>\n",
       "    <tr>\n",
       "      <th>0</th>\n",
       "      <td>39</td>\n",
       "      <td>2174</td>\n",
       "      <td>0</td>\n",
       "      <td>40</td>\n",
       "      <td>0</td>\n",
       "      <td>0</td>\n",
       "      <td>0</td>\n",
       "      <td>0</td>\n",
       "      <td>0</td>\n",
       "      <td>1</td>\n",
       "      <td>...</td>\n",
       "      <td>0</td>\n",
       "      <td>0</td>\n",
       "      <td>0</td>\n",
       "      <td>0</td>\n",
       "      <td>0</td>\n",
       "      <td>0</td>\n",
       "      <td>0</td>\n",
       "      <td>1</td>\n",
       "      <td>0</td>\n",
       "      <td>0</td>\n",
       "    </tr>\n",
       "    <tr>\n",
       "      <th>1</th>\n",
       "      <td>50</td>\n",
       "      <td>0</td>\n",
       "      <td>0</td>\n",
       "      <td>13</td>\n",
       "      <td>0</td>\n",
       "      <td>0</td>\n",
       "      <td>0</td>\n",
       "      <td>0</td>\n",
       "      <td>1</td>\n",
       "      <td>0</td>\n",
       "      <td>...</td>\n",
       "      <td>0</td>\n",
       "      <td>0</td>\n",
       "      <td>0</td>\n",
       "      <td>0</td>\n",
       "      <td>0</td>\n",
       "      <td>0</td>\n",
       "      <td>0</td>\n",
       "      <td>1</td>\n",
       "      <td>0</td>\n",
       "      <td>0</td>\n",
       "    </tr>\n",
       "    <tr>\n",
       "      <th>2</th>\n",
       "      <td>38</td>\n",
       "      <td>0</td>\n",
       "      <td>0</td>\n",
       "      <td>40</td>\n",
       "      <td>0</td>\n",
       "      <td>0</td>\n",
       "      <td>1</td>\n",
       "      <td>0</td>\n",
       "      <td>0</td>\n",
       "      <td>0</td>\n",
       "      <td>...</td>\n",
       "      <td>0</td>\n",
       "      <td>0</td>\n",
       "      <td>0</td>\n",
       "      <td>0</td>\n",
       "      <td>0</td>\n",
       "      <td>0</td>\n",
       "      <td>0</td>\n",
       "      <td>1</td>\n",
       "      <td>0</td>\n",
       "      <td>0</td>\n",
       "    </tr>\n",
       "    <tr>\n",
       "      <th>3</th>\n",
       "      <td>53</td>\n",
       "      <td>0</td>\n",
       "      <td>0</td>\n",
       "      <td>40</td>\n",
       "      <td>0</td>\n",
       "      <td>0</td>\n",
       "      <td>1</td>\n",
       "      <td>0</td>\n",
       "      <td>0</td>\n",
       "      <td>0</td>\n",
       "      <td>...</td>\n",
       "      <td>0</td>\n",
       "      <td>0</td>\n",
       "      <td>0</td>\n",
       "      <td>0</td>\n",
       "      <td>0</td>\n",
       "      <td>0</td>\n",
       "      <td>0</td>\n",
       "      <td>1</td>\n",
       "      <td>0</td>\n",
       "      <td>0</td>\n",
       "    </tr>\n",
       "    <tr>\n",
       "      <th>4</th>\n",
       "      <td>28</td>\n",
       "      <td>0</td>\n",
       "      <td>0</td>\n",
       "      <td>40</td>\n",
       "      <td>0</td>\n",
       "      <td>0</td>\n",
       "      <td>1</td>\n",
       "      <td>0</td>\n",
       "      <td>0</td>\n",
       "      <td>0</td>\n",
       "      <td>...</td>\n",
       "      <td>0</td>\n",
       "      <td>0</td>\n",
       "      <td>0</td>\n",
       "      <td>0</td>\n",
       "      <td>0</td>\n",
       "      <td>0</td>\n",
       "      <td>0</td>\n",
       "      <td>0</td>\n",
       "      <td>0</td>\n",
       "      <td>0</td>\n",
       "    </tr>\n",
       "  </tbody>\n",
       "</table>\n",
       "<p>5 rows × 95 columns</p>\n",
       "</div>"
      ],
      "text/plain": [
       "   age  capital-gain  capital-loss  hours-per-week  income_class  \\\n",
       "0   39          2174             0              40             0   \n",
       "1   50             0             0              13             0   \n",
       "2   38             0             0              40             0   \n",
       "3   53             0             0              40             0   \n",
       "4   28             0             0              40             0   \n",
       "\n",
       "   workclass_Local-gov  workclass_Private  workclass_Self-emp-inc  \\\n",
       "0                    0                  0                       0   \n",
       "1                    0                  0                       0   \n",
       "2                    0                  1                       0   \n",
       "3                    0                  1                       0   \n",
       "4                    0                  1                       0   \n",
       "\n",
       "   workclass_Self-emp-not-inc  workclass_State-gov  ...  \\\n",
       "0                           0                    1  ...   \n",
       "1                           1                    0  ...   \n",
       "2                           0                    0  ...   \n",
       "3                           0                    0  ...   \n",
       "4                           0                    0  ...   \n",
       "\n",
       "   native-country_Portugal  native-country_Puerto-Rico  \\\n",
       "0                        0                           0   \n",
       "1                        0                           0   \n",
       "2                        0                           0   \n",
       "3                        0                           0   \n",
       "4                        0                           0   \n",
       "\n",
       "   native-country_Scotland  native-country_South  native-country_Taiwan  \\\n",
       "0                        0                     0                      0   \n",
       "1                        0                     0                      0   \n",
       "2                        0                     0                      0   \n",
       "3                        0                     0                      0   \n",
       "4                        0                     0                      0   \n",
       "\n",
       "   native-country_Thailand  native-country_Trinadad&Tobago  \\\n",
       "0                        0                               0   \n",
       "1                        0                               0   \n",
       "2                        0                               0   \n",
       "3                        0                               0   \n",
       "4                        0                               0   \n",
       "\n",
       "   native-country_United-States  native-country_Vietnam  \\\n",
       "0                             1                       0   \n",
       "1                             1                       0   \n",
       "2                             1                       0   \n",
       "3                             1                       0   \n",
       "4                             0                       0   \n",
       "\n",
       "   native-country_Yugoslavia  \n",
       "0                          0  \n",
       "1                          0  \n",
       "2                          0  \n",
       "3                          0  \n",
       "4                          0  \n",
       "\n",
       "[5 rows x 95 columns]"
      ]
     },
     "execution_count": 53,
     "metadata": {},
     "output_type": "execute_result"
    }
   ],
   "source": [
    "# encode categorical variables\n",
    "encoded_data = pd.get_dummies(data, drop_first=True)\n",
    "encoded_data.head()"
   ]
  },
  {
   "cell_type": "code",
   "execution_count": 54,
   "id": "44ddeb4d",
   "metadata": {},
   "outputs": [],
   "source": [
    "label = ['income_class']\n",
    "features = list(set(encoded_data.columns) - set(label))"
   ]
  },
  {
   "cell_type": "code",
   "execution_count": 55,
   "id": "aac674e3",
   "metadata": {},
   "outputs": [
    {
     "data": {
      "text/plain": [
       "((30162, 94), (30162,))"
      ]
     },
     "execution_count": 55,
     "metadata": {},
     "output_type": "execute_result"
    }
   ],
   "source": [
    "# create input features (X) and output feature (y)\n",
    "X = encoded_data[features].values\n",
    "y = encoded_data[label[0]].values\n",
    "X.shape, y.shape"
   ]
  },
  {
   "cell_type": "code",
   "execution_count": 56,
   "id": "eefabf12",
   "metadata": {},
   "outputs": [
    {
     "name": "stdout",
     "output_type": "stream",
     "text": [
      "(27145, 94) (3017, 94) (27145,) (3017,)\n"
     ]
    }
   ],
   "source": [
    "# Splitting the data into train and test\n",
    "X_train, X_test, y_train, y_test = train_test_split(X, y, test_size=0.1, random_state=0)\n",
    "print(X_train.shape, X_test.shape, y_train.shape, y_test.shape)"
   ]
  },
  {
   "cell_type": "markdown",
   "id": "3d147567",
   "metadata": {},
   "source": [
    "#### ML algorithms\n",
    "##### 1. Logistic Regression"
   ]
  },
  {
   "cell_type": "code",
   "execution_count": 57,
   "id": "0e512aef",
   "metadata": {},
   "outputs": [
    {
     "data": {
      "text/plain": [
       "LogisticRegression(max_iter=2000)"
      ]
     },
     "execution_count": 57,
     "metadata": {},
     "output_type": "execute_result"
    }
   ],
   "source": [
    "log_model = LogisticRegression(max_iter=2000)\n",
    "log_model.fit(X_train, y_train)"
   ]
  },
  {
   "cell_type": "code",
   "execution_count": 58,
   "id": "6de1b8f3",
   "metadata": {},
   "outputs": [],
   "source": [
    "# log_model.coef_, log_model.intercept_"
   ]
  },
  {
   "cell_type": "code",
   "execution_count": 59,
   "id": "204d911d",
   "metadata": {},
   "outputs": [
    {
     "name": "stdout",
     "output_type": "stream",
     "text": [
      "[0 0 0 ... 1 1 0]\n"
     ]
    }
   ],
   "source": [
    "y_pred = log_model.predict(X_test)\n",
    "print(y_pred)"
   ]
  },
  {
   "cell_type": "code",
   "execution_count": 60,
   "id": "ec516213",
   "metadata": {},
   "outputs": [
    {
     "name": "stdout",
     "output_type": "stream",
     "text": [
      "Misclassified samples: 475\n"
     ]
    }
   ],
   "source": [
    "print(\"Misclassified samples: {}\".format((y_test != y_pred).sum()))"
   ]
  },
  {
   "cell_type": "code",
   "execution_count": 61,
   "id": "cb375667",
   "metadata": {},
   "outputs": [
    {
     "name": "stdout",
     "output_type": "stream",
     "text": [
      "Train Accuracy: 84.72%\n",
      "Test Accuracy: 84.26%\n",
      "\n",
      "Train Precision: 73.54%\n",
      "Test Precision: 73.77%\n",
      "\n",
      "Train Recall: 60.09%\n",
      "Test Recall: 58.82%\n",
      "\n",
      "Confusion Matrix: \n",
      " [[2092  160]\n",
      " [ 315  450]]\n"
     ]
    }
   ],
   "source": [
    "train_y_pred = log_model.predict(X_train)\n",
    "test_y_pred = log_model.predict(X_test)\n",
    "\n",
    "train_accuracy = accuracy_score(y_train, train_y_pred)\n",
    "test_accuracy = accuracy_score(y_test, test_y_pred)\n",
    "print(\"Train Accuracy: {}%\".format(round(train_accuracy*100, 2)))\n",
    "print(\"Test Accuracy: {}%\\n\".format(round(test_accuracy*100, 2)))\n",
    "\n",
    "train_precision = precision_score(y_train, train_y_pred)\n",
    "test_precision = precision_score(y_test, test_y_pred)\n",
    "print(\"Train Precision: {}%\".format(round(train_precision*100, 2)))\n",
    "print(\"Test Precision: {}%\\n\".format(round(test_precision*100, 2)))\n",
    "\n",
    "train_recall = recall_score(y_train, train_y_pred)\n",
    "test_recall = recall_score(y_test, test_y_pred)\n",
    "print(\"Train Recall: {}%\".format(round(train_recall*100, 2)))\n",
    "print(\"Test Recall: {}%\\n\".format(round(test_recall*100, 2)))\n",
    "\n",
    "confusion_mat = confusion_matrix(y_test, test_y_pred)\n",
    "print(\"Confusion Matrix: \\n\", confusion_mat)"
   ]
  },
  {
   "cell_type": "markdown",
   "id": "9ec16c33",
   "metadata": {},
   "source": [
    "##### 2. Random Forest"
   ]
  },
  {
   "cell_type": "code",
   "execution_count": 62,
   "id": "1395c9fc",
   "metadata": {},
   "outputs": [],
   "source": [
    "from sklearn.ensemble import RandomForestClassifier\n",
    "from sklearn.model_selection import RandomizedSearchCV\n",
    "rfc = RandomForestClassifier()"
   ]
  },
  {
   "cell_type": "code",
   "execution_count": 63,
   "id": "aea3b3ef",
   "metadata": {},
   "outputs": [],
   "source": [
    "# Model tuning via hyperparameters\n",
    "# Number of trees in random forest\n",
    "n_estimators = [int(x) for x in np.linspace(start = 100, stop=300, num=3)]\n",
    "\n",
    "# Number of features to consider at every split\n",
    "max_features = ['auto', 'sqrt']\n",
    "\n",
    "# Maximum number of levels in tree\n",
    "max_depth = [int(x) for x in np.linspace(5, 15, num=3)]\n",
    "# max_depth.append(None)\n",
    "\n",
    "# Minimum number of samples required to split a node\n",
    "min_samples_split = [3, 5, 10]\n",
    "\n",
    "# Minimum number of samples required at each leaf node\n",
    "min_samples_leaf = [2, 5, 7]\n",
    "\n",
    "# Create the random grid\n",
    "random_grid = {'n_estimators': n_estimators,\n",
    "               'max_features': max_features,\n",
    "               'max_depth': max_depth,\n",
    "               'min_samples_split': min_samples_split,\n",
    "               'min_samples_leaf': min_samples_leaf}"
   ]
  },
  {
   "cell_type": "code",
   "execution_count": 64,
   "id": "eb17a094",
   "metadata": {},
   "outputs": [
    {
     "name": "stdout",
     "output_type": "stream",
     "text": [
      "Fitting 5 folds for each of 20 candidates, totalling 100 fits\n"
     ]
    },
    {
     "data": {
      "text/plain": [
       "RandomizedSearchCV(cv=5, estimator=RandomForestClassifier(), n_iter=20,\n",
       "                   param_distributions={'max_depth': [5, 10, 15],\n",
       "                                        'max_features': ['auto', 'sqrt'],\n",
       "                                        'min_samples_leaf': [2, 5, 7],\n",
       "                                        'min_samples_split': [3, 5, 10],\n",
       "                                        'n_estimators': [100, 200, 300]},\n",
       "                   random_state=3, scoring='roc_auc', verbose=1)"
      ]
     },
     "execution_count": 64,
     "metadata": {},
     "output_type": "execute_result"
    }
   ],
   "source": [
    "# Random search of parameters, using 5 fold cross validation, \n",
    "# search across 20 different combinations of hyperparameters\n",
    "rfc_random = RandomizedSearchCV(estimator = rfc, \n",
    "                               param_distributions=random_grid,\n",
    "                               n_iter=20, cv=5, scoring='roc_auc',\n",
    "                               verbose=1, random_state=3)\n",
    "\n",
    "# train the model\n",
    "rfc_random.fit(X_train, y_train)"
   ]
  },
  {
   "cell_type": "code",
   "execution_count": 65,
   "id": "148fa272",
   "metadata": {},
   "outputs": [
    {
     "name": "stdout",
     "output_type": "stream",
     "text": [
      "Best Parameters:  {'n_estimators': 200, 'min_samples_split': 3, 'min_samples_leaf': 2, 'max_features': 'sqrt', 'max_depth': 15}\n"
     ]
    }
   ],
   "source": [
    "print(\"Best Parameters: \", rfc_random.best_params_)"
   ]
  },
  {
   "cell_type": "code",
   "execution_count": 66,
   "id": "c39329c8",
   "metadata": {},
   "outputs": [
    {
     "name": "stdout",
     "output_type": "stream",
     "text": [
      "Train Accuracy: 86.79%\n",
      "Test Accuracy: 84.92%\n",
      "\n",
      "Train Precision: 83.06%\n",
      "Test Precision: 79.81%\n",
      "\n",
      "Train Recall: 58.82%\n",
      "Test Recall: 54.25%\n",
      "\n",
      "Confusion Matrix: \n",
      " [[2147  105]\n",
      " [ 350  415]]\n"
     ]
    }
   ],
   "source": [
    "train_y_pred = rfc_random.predict(X_train)\n",
    "test_y_pred = rfc_random.predict(X_test)\n",
    "\n",
    "train_accuracy = accuracy_score(y_train, train_y_pred)\n",
    "test_accuracy = accuracy_score(y_test, test_y_pred)\n",
    "print(\"Train Accuracy: {}%\".format(round(train_accuracy*100, 2)))\n",
    "print(\"Test Accuracy: {}%\\n\".format(round(test_accuracy*100, 2)))\n",
    "\n",
    "train_precision = precision_score(y_train, train_y_pred)\n",
    "test_precision = precision_score(y_test, test_y_pred)\n",
    "print(\"Train Precision: {}%\".format(round(train_precision*100, 2)))\n",
    "print(\"Test Precision: {}%\\n\".format(round(test_precision*100, 2)))\n",
    "\n",
    "train_recall = recall_score(y_train, train_y_pred)\n",
    "test_recall = recall_score(y_test, test_y_pred)\n",
    "print(\"Train Recall: {}%\".format(round(train_recall*100, 2)))\n",
    "print(\"Test Recall: {}%\\n\".format(round(test_recall*100, 2)))\n",
    "\n",
    "confusion_mat = confusion_matrix(y_test, test_y_pred)\n",
    "print(\"Confusion Matrix: \\n\", confusion_mat)"
   ]
  },
  {
   "cell_type": "markdown",
   "id": "2b49ca89",
   "metadata": {},
   "source": [
    "##### 3. XGBoost Algorithm"
   ]
  },
  {
   "cell_type": "code",
   "execution_count": 67,
   "id": "15e6d939",
   "metadata": {},
   "outputs": [],
   "source": [
    "#import sys\n",
    "#!{sys.executable} -m pip install xgboost"
   ]
  },
  {
   "cell_type": "code",
   "execution_count": 68,
   "id": "5894ba6d",
   "metadata": {},
   "outputs": [],
   "source": [
    "from xgboost import XGBClassifier"
   ]
  },
  {
   "cell_type": "code",
   "execution_count": 69,
   "id": "c8e20416",
   "metadata": {},
   "outputs": [
    {
     "name": "stdout",
     "output_type": "stream",
     "text": [
      "Fitting 5 folds for each of 20 candidates, totalling 100 fits\n"
     ]
    },
    {
     "data": {
      "text/plain": [
       "RandomizedSearchCV(cv=5,\n",
       "                   estimator=XGBClassifier(base_score=None, booster=None,\n",
       "                                           callbacks=None,\n",
       "                                           colsample_bylevel=None,\n",
       "                                           colsample_bynode=None,\n",
       "                                           colsample_bytree=None, device=None,\n",
       "                                           early_stopping_rounds=None,\n",
       "                                           enable_categorical=False,\n",
       "                                           eval_metric='mlogloss',\n",
       "                                           feature_types=None, gamma=None,\n",
       "                                           grow_policy=None,\n",
       "                                           importance_type=None,\n",
       "                                           interaction_constraints=None,\n",
       "                                           learnin...\n",
       "                                           min_child_weight=None, missing=nan,\n",
       "                                           monotone_constraints=None,\n",
       "                                           multi_strategy=None,\n",
       "                                           n_estimators=None, n_jobs=None,\n",
       "                                           num_parallel_tree=None,\n",
       "                                           random_state=None, ...),\n",
       "                   n_iter=20, n_jobs=-1,\n",
       "                   param_distributions={'colsample_bytree': [0.3, 0.4, 0.5,\n",
       "                                                             0.7],\n",
       "                                        'gamma': [0.0, 0.1, 0.2, 0.3, 0.4],\n",
       "                                        'learning_rate': [0.05, 0.1, 0.15, 0.2,\n",
       "                                                          0.25],\n",
       "                                        'max_depth': [2, 3, 4, 5, 6, 8, 10],\n",
       "                                        'min_child_weight': [1, 3, 5, 7]},\n",
       "                   verbose=3)"
      ]
     },
     "execution_count": 69,
     "metadata": {},
     "output_type": "execute_result"
    }
   ],
   "source": [
    "random_grid = {\n",
    " \"learning_rate\" : [0.05,0.10,0.15,0.20,0.25],\n",
    " \"max_depth\": [2, 3, 4, 5, 6, 8, 10],\n",
    " \"min_child_weight\": [ 1, 3, 5, 7],\n",
    " \"gamma\": [0.0, 0.1, 0.2 , 0.3, 0.4 ],\n",
    " \"colsample_bytree\" : [0.3, 0.4, 0.5 , 0.7]\n",
    "}\n",
    "\n",
    "xgb_model = XGBClassifier(use_label_encoder=False, eval_metric='mlogloss')\n",
    "xgb_cv = RandomizedSearchCV(xgb_model,\n",
    "                            param_distributions=random_grid,\n",
    "                            n_iter=20,\n",
    "                            n_jobs=-1,\n",
    "                            cv=5,\n",
    "                            verbose=3)\n",
    "xgb_cv.fit(X_train, y_train)"
   ]
  },
  {
   "cell_type": "code",
   "execution_count": 70,
   "id": "1ae1fa86",
   "metadata": {},
   "outputs": [
    {
     "name": "stdout",
     "output_type": "stream",
     "text": [
      "Best Parameters:  {'min_child_weight': 1, 'max_depth': 8, 'learning_rate': 0.1, 'gamma': 0.3, 'colsample_bytree': 0.7}\n"
     ]
    }
   ],
   "source": [
    "print(\"Best Parameters: \", xgb_cv.best_params_)"
   ]
  },
  {
   "cell_type": "code",
   "execution_count": 71,
   "id": "9feab2dd",
   "metadata": {},
   "outputs": [
    {
     "name": "stdout",
     "output_type": "stream",
     "text": [
      "Train Accuracy: 88.37%\n",
      "Test Accuracy: 86.44%\n",
      "\n",
      "Train Precision: 82.64%\n",
      "Test Precision: 80.27%\n",
      "\n",
      "Train Recall: 67.34%\n",
      "Test Recall: 61.7%\n",
      "\n",
      "Confusion Matrix: \n",
      " [[2136  116]\n",
      " [ 293  472]]\n"
     ]
    }
   ],
   "source": [
    "train_y_pred = xgb_cv.predict(X_train)\n",
    "test_y_pred = xgb_cv.predict(X_test)\n",
    "\n",
    "train_accuracy = accuracy_score(y_train, train_y_pred)\n",
    "test_accuracy = accuracy_score(y_test, test_y_pred)\n",
    "print(\"Train Accuracy: {}%\".format(round(train_accuracy*100, 2)))\n",
    "print(\"Test Accuracy: {}%\\n\".format(round(test_accuracy*100, 2)))\n",
    "\n",
    "train_precision = precision_score(y_train, train_y_pred)\n",
    "test_precision = precision_score(y_test, test_y_pred)\n",
    "print(\"Train Precision: {}%\".format(round(train_precision*100, 2)))\n",
    "print(\"Test Precision: {}%\\n\".format(round(test_precision*100, 2)))\n",
    "\n",
    "train_recall = recall_score(y_train, train_y_pred)\n",
    "test_recall = recall_score(y_test, test_y_pred)\n",
    "print(\"Train Recall: {}%\".format(round(train_recall*100, 2)))\n",
    "print(\"Test Recall: {}%\\n\".format(round(test_recall*100, 2)))\n",
    "\n",
    "confusion_mat = confusion_matrix(y_test, test_y_pred)\n",
    "print(\"Confusion Matrix: \\n\", confusion_mat)"
   ]
  },
  {
   "cell_type": "markdown",
   "id": "524640e5",
   "metadata": {},
   "source": [
    "#### Models Performance Analysis and Comparisons"
   ]
  },
  {
   "cell_type": "markdown",
   "id": "6f80be14",
   "metadata": {},
   "source": [
    "1. ROC Score"
   ]
  },
  {
   "cell_type": "code",
   "execution_count": 72,
   "id": "0476f73f",
   "metadata": {},
   "outputs": [
    {
     "name": "stdout",
     "output_type": "stream",
     "text": [
      "ROC AUC Score for Logistic Regression 0.905\n",
      "ROC AUC Score for Random Forest 0.917\n",
      "ROC AUC Score for XGBoost 0.931\n"
     ]
    }
   ],
   "source": [
    "## Logistic Regression\n",
    "yhat = log_model.predict_proba(X_test)\n",
    "log_test_prob = yhat[:, 1]\n",
    "# calculate roc auc\n",
    "roc_auc = roc_auc_score(y_test, log_test_prob)\n",
    "print('ROC AUC Score for Logistic Regression %.3f' % roc_auc)\n",
    "\n",
    "## Random Forest Classifier\n",
    "yhat = rfc_random.predict_proba(X_test)\n",
    "rf_test_prob = yhat[:, 1]\n",
    "# calculate roc auc\n",
    "roc_auc = roc_auc_score(y_test, rf_test_prob)\n",
    "print('ROC AUC Score for Random Forest %.3f' % roc_auc)\n",
    "\n",
    "## XG Boost\n",
    "yhat = xgb_cv.predict_proba(X_test)\n",
    "xgb_test_prob = yhat[:, 1]\n",
    "# calculate roc auc\n",
    "roc_auc = roc_auc_score(y_test, xgb_test_prob)\n",
    "print('ROC AUC Score for XGBoost %.3f' % roc_auc)"
   ]
  },
  {
   "cell_type": "markdown",
   "id": "feafc995",
   "metadata": {},
   "source": [
    "2. Precision Recall Curve"
   ]
  },
  {
   "cell_type": "code",
   "execution_count": 73,
   "id": "d878e416",
   "metadata": {},
   "outputs": [
    {
     "data": {
      "image/png": "[encoded data removed]",
      "text/plain": [
       "<Figure size 432x288 with 1 Axes>"
      ]
     },
     "metadata": {
      "needs_background": "light"
     },
     "output_type": "display_data"
    }
   ],
   "source": [
    "baseline = len(y[y==1]) / len(y)\n",
    "# plot the no skill precision-recall curve\n",
    "pyplot.plot([0, 1], [baseline, baseline], linestyle='--', label='Baseline')\n",
    "# calculate model precision-recall curve\n",
    "precision, recall, _ = precision_recall_curve(y_test, log_test_prob)\n",
    "# plot the model precision-recall curve\n",
    "pyplot.plot(recall, precision, marker='.', label='Logistic')\n",
    "\n",
    "# calculate model precision-recall curve\n",
    "precision, recall, _ = precision_recall_curve(y_test, rf_test_prob)\n",
    "# plot the model precision-recall curve\n",
    "pyplot.plot(recall, precision, marker='+', label='Random Forest')\n",
    "\n",
    "# calculate model precision-recall curve\n",
    "precision, recall, _ = precision_recall_curve(y_test, xgb_test_prob)\n",
    "# plot the model precision-recall curve\n",
    "pyplot.plot(recall, precision, marker='*', label='XG Boost')\n",
    "\n",
    "# axis labels\n",
    "pyplot.xlabel('Recall')\n",
    "pyplot.ylabel('Precision')\n",
    "# show the legend\n",
    "pyplot.legend()\n",
    "# show the plot\n",
    "pyplot.show()"
   ]
  },
  {
   "cell_type": "markdown",
   "id": "8a39e078",
   "metadata": {},
   "source": [
    "3. ROC AUC Curve"
   ]
  },
  {
   "cell_type": "code",
   "execution_count": 74,
   "id": "303c60e8",
   "metadata": {},
   "outputs": [
    {
     "data": {
      "image/png": "[encoded data removed]",
      "text/plain": [
       "<Figure size 432x288 with 1 Axes>"
      ]
     },
     "metadata": {
      "needs_background": "light"
     },
     "output_type": "display_data"
    }
   ],
   "source": [
    "pyplot.plot([0, 1], [0, 1], linestyle='--', label='Baseline')\n",
    "# plot model roc curve for logistic model\n",
    "fpr, tpr, _ = roc_curve(y_test, log_test_prob)\n",
    "pyplot.plot(fpr, tpr, marker='.', label='Logistic')\n",
    "# plot model roc curve for random forest\n",
    "fpr, tpr, _ = roc_curve(y_test, rf_test_prob)\n",
    "pyplot.plot(fpr, tpr, marker='+', label='Random Forest')\n",
    "# plot model roc curve for xgboost\n",
    "fpr, tpr, _ = roc_curve(y_test, xgb_test_prob)\n",
    "pyplot.plot(fpr, tpr, marker='*', label='XG Boost')\n",
    "# axis labels\n",
    "pyplot.xlabel('False Positive Rate')\n",
    "pyplot.ylabel('True Positive Rate')\n",
    "# show the legend\n",
    "pyplot.legend()\n",
    "# show the plot\n",
    "plt.show()"
   ]
  },
  {
   "cell_type": "markdown",
   "id": "20e49392",
   "metadata": {},
   "source": [
    "<b>Note:</b> \n",
    "<ul>\n",
    "    <li>Trained the Logistic Regression, Random Forest and XG Boost model on income classification dataset.</li>\n",
    "    <li>According to ROC AUC score, XG Boost is outperforming among all three model with auc score with 0.93. Also, same can be confirmed with precision recall curve and ROC Curve.</li>\n",
    "    <li>XGBoost is giving 86% accuracy on test set which is best among other models.</li>\n",
    "</ul>"
   ]
  },
  {
   "cell_type": "code",
   "execution_count": null,
   "id": "6e005a39",
   "metadata": {},
   "outputs": [],
   "source": []
  },
  {
   "cell_type": "code",
   "execution_count": null,
   "id": "9487c63f",
   "metadata": {},
   "outputs": [],
   "source": []
  }
 ],
 "metadata": {
  "kernelspec": {
   "display_name": "Python 3 (ipykernel)",
   "language": "python",
   "name": "python3"
  },
  "language_info": {
   "codemirror_mode": {
    "name": "ipython",
    "version": 3
   },
   "file_extension": ".py",
   "mimetype": "text/x-python",
   "name": "python",
   "nbconvert_exporter": "python",
   "pygments_lexer": "ipython3",
   "version": "3.9.12"
  }
 },
 "nbformat": 4,
 "nbformat_minor": 5
}
